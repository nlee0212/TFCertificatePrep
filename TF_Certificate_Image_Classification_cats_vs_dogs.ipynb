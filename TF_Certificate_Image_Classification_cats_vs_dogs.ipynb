{
  "nbformat": 4,
  "nbformat_minor": 0,
  "metadata": {
    "kernelspec": {
      "display_name": "Python 3",
      "language": "python",
      "name": "python3"
    },
    "language_info": {
      "codemirror_mode": {
        "name": "ipython",
        "version": 3
      },
      "file_extension": ".py",
      "mimetype": "text/x-python",
      "name": "python",
      "nbconvert_exporter": "python",
      "pygments_lexer": "ipython3",
      "version": "3.6.6"
    },
    "colab": {
      "name": "TF_Certificate_Image_Classification_cats-vs-dogs",
      "provenance": [],
      "collapsed_sections": [],
      "toc_visible": true,
      "include_colab_link": true
    },
    "accelerator": "GPU",
    "widgets": {
      "application/vnd.jupyter.widget-state+json": {
        "e71b252e68904888a14c1268d72980ca": {
          "model_module": "@jupyter-widgets/controls",
          "model_name": "HBoxModel",
          "state": {
            "_view_name": "HBoxView",
            "_dom_classes": [],
            "_model_name": "HBoxModel",
            "_view_module": "@jupyter-widgets/controls",
            "_model_module_version": "1.5.0",
            "_view_count": null,
            "_view_module_version": "1.5.0",
            "box_style": "",
            "layout": "IPY_MODEL_1d797cb48d6a4714a56196175c3d201b",
            "_model_module": "@jupyter-widgets/controls",
            "children": [
              "IPY_MODEL_d458c402ad5d46568264fe490e560c98",
              "IPY_MODEL_3e089e75be294c7c9c9031ac00d56f09"
            ]
          }
        },
        "1d797cb48d6a4714a56196175c3d201b": {
          "model_module": "@jupyter-widgets/base",
          "model_name": "LayoutModel",
          "state": {
            "_view_name": "LayoutView",
            "grid_template_rows": null,
            "right": null,
            "justify_content": null,
            "_view_module": "@jupyter-widgets/base",
            "overflow": null,
            "_model_module_version": "1.2.0",
            "_view_count": null,
            "flex_flow": null,
            "width": null,
            "min_width": null,
            "border": null,
            "align_items": null,
            "bottom": null,
            "_model_module": "@jupyter-widgets/base",
            "top": null,
            "grid_column": null,
            "overflow_y": null,
            "overflow_x": null,
            "grid_auto_flow": null,
            "grid_area": null,
            "grid_template_columns": null,
            "flex": null,
            "_model_name": "LayoutModel",
            "justify_items": null,
            "grid_row": null,
            "max_height": null,
            "align_content": null,
            "visibility": null,
            "align_self": null,
            "height": null,
            "min_height": null,
            "padding": null,
            "grid_auto_rows": null,
            "grid_gap": null,
            "max_width": null,
            "order": null,
            "_view_module_version": "1.2.0",
            "grid_template_areas": null,
            "object_position": null,
            "object_fit": null,
            "grid_auto_columns": null,
            "margin": null,
            "display": null,
            "left": null
          }
        },
        "d458c402ad5d46568264fe490e560c98": {
          "model_module": "@jupyter-widgets/controls",
          "model_name": "FloatProgressModel",
          "state": {
            "_view_name": "ProgressView",
            "style": "IPY_MODEL_de43330d8f9c46c6ae757d28b86687dd",
            "_dom_classes": [],
            "description": "Dl Completed...: 100%",
            "_model_name": "FloatProgressModel",
            "bar_style": "success",
            "max": 1,
            "_view_module": "@jupyter-widgets/controls",
            "_model_module_version": "1.5.0",
            "value": 1,
            "_view_count": null,
            "_view_module_version": "1.5.0",
            "orientation": "horizontal",
            "min": 0,
            "description_tooltip": null,
            "_model_module": "@jupyter-widgets/controls",
            "layout": "IPY_MODEL_8404183d63bd4915a58951541a1afde7"
          }
        },
        "3e089e75be294c7c9c9031ac00d56f09": {
          "model_module": "@jupyter-widgets/controls",
          "model_name": "HTMLModel",
          "state": {
            "_view_name": "HTMLView",
            "style": "IPY_MODEL_6cc86b8632e7429bb08b865556c6ef97",
            "_dom_classes": [],
            "description": "",
            "_model_name": "HTMLModel",
            "placeholder": "​",
            "_view_module": "@jupyter-widgets/controls",
            "_model_module_version": "1.5.0",
            "value": " 1/1 [00:10&lt;00:00, 10.04s/ url]",
            "_view_count": null,
            "_view_module_version": "1.5.0",
            "description_tooltip": null,
            "_model_module": "@jupyter-widgets/controls",
            "layout": "IPY_MODEL_cd2fd15a350c43c3a2716a1378562b36"
          }
        },
        "de43330d8f9c46c6ae757d28b86687dd": {
          "model_module": "@jupyter-widgets/controls",
          "model_name": "ProgressStyleModel",
          "state": {
            "_view_name": "StyleView",
            "_model_name": "ProgressStyleModel",
            "description_width": "initial",
            "_view_module": "@jupyter-widgets/base",
            "_model_module_version": "1.5.0",
            "_view_count": null,
            "_view_module_version": "1.2.0",
            "bar_color": null,
            "_model_module": "@jupyter-widgets/controls"
          }
        },
        "8404183d63bd4915a58951541a1afde7": {
          "model_module": "@jupyter-widgets/base",
          "model_name": "LayoutModel",
          "state": {
            "_view_name": "LayoutView",
            "grid_template_rows": null,
            "right": null,
            "justify_content": null,
            "_view_module": "@jupyter-widgets/base",
            "overflow": null,
            "_model_module_version": "1.2.0",
            "_view_count": null,
            "flex_flow": null,
            "width": null,
            "min_width": null,
            "border": null,
            "align_items": null,
            "bottom": null,
            "_model_module": "@jupyter-widgets/base",
            "top": null,
            "grid_column": null,
            "overflow_y": null,
            "overflow_x": null,
            "grid_auto_flow": null,
            "grid_area": null,
            "grid_template_columns": null,
            "flex": null,
            "_model_name": "LayoutModel",
            "justify_items": null,
            "grid_row": null,
            "max_height": null,
            "align_content": null,
            "visibility": null,
            "align_self": null,
            "height": null,
            "min_height": null,
            "padding": null,
            "grid_auto_rows": null,
            "grid_gap": null,
            "max_width": null,
            "order": null,
            "_view_module_version": "1.2.0",
            "grid_template_areas": null,
            "object_position": null,
            "object_fit": null,
            "grid_auto_columns": null,
            "margin": null,
            "display": null,
            "left": null
          }
        },
        "6cc86b8632e7429bb08b865556c6ef97": {
          "model_module": "@jupyter-widgets/controls",
          "model_name": "DescriptionStyleModel",
          "state": {
            "_view_name": "StyleView",
            "_model_name": "DescriptionStyleModel",
            "description_width": "",
            "_view_module": "@jupyter-widgets/base",
            "_model_module_version": "1.5.0",
            "_view_count": null,
            "_view_module_version": "1.2.0",
            "_model_module": "@jupyter-widgets/controls"
          }
        },
        "cd2fd15a350c43c3a2716a1378562b36": {
          "model_module": "@jupyter-widgets/base",
          "model_name": "LayoutModel",
          "state": {
            "_view_name": "LayoutView",
            "grid_template_rows": null,
            "right": null,
            "justify_content": null,
            "_view_module": "@jupyter-widgets/base",
            "overflow": null,
            "_model_module_version": "1.2.0",
            "_view_count": null,
            "flex_flow": null,
            "width": null,
            "min_width": null,
            "border": null,
            "align_items": null,
            "bottom": null,
            "_model_module": "@jupyter-widgets/base",
            "top": null,
            "grid_column": null,
            "overflow_y": null,
            "overflow_x": null,
            "grid_auto_flow": null,
            "grid_area": null,
            "grid_template_columns": null,
            "flex": null,
            "_model_name": "LayoutModel",
            "justify_items": null,
            "grid_row": null,
            "max_height": null,
            "align_content": null,
            "visibility": null,
            "align_self": null,
            "height": null,
            "min_height": null,
            "padding": null,
            "grid_auto_rows": null,
            "grid_gap": null,
            "max_width": null,
            "order": null,
            "_view_module_version": "1.2.0",
            "grid_template_areas": null,
            "object_position": null,
            "object_fit": null,
            "grid_auto_columns": null,
            "margin": null,
            "display": null,
            "left": null
          }
        },
        "7fd6de9f214646a2bd3787bbc1e2b32d": {
          "model_module": "@jupyter-widgets/controls",
          "model_name": "HBoxModel",
          "state": {
            "_view_name": "HBoxView",
            "_dom_classes": [],
            "_model_name": "HBoxModel",
            "_view_module": "@jupyter-widgets/controls",
            "_model_module_version": "1.5.0",
            "_view_count": null,
            "_view_module_version": "1.5.0",
            "box_style": "",
            "layout": "IPY_MODEL_2b7cd62677804a70894072152e0dbba6",
            "_model_module": "@jupyter-widgets/controls",
            "children": [
              "IPY_MODEL_c419df7f8949490b8a18908deb2dae27",
              "IPY_MODEL_47e06022d1a548bb8a551c4ccdc0b62a"
            ]
          }
        },
        "2b7cd62677804a70894072152e0dbba6": {
          "model_module": "@jupyter-widgets/base",
          "model_name": "LayoutModel",
          "state": {
            "_view_name": "LayoutView",
            "grid_template_rows": null,
            "right": null,
            "justify_content": null,
            "_view_module": "@jupyter-widgets/base",
            "overflow": null,
            "_model_module_version": "1.2.0",
            "_view_count": null,
            "flex_flow": null,
            "width": null,
            "min_width": null,
            "border": null,
            "align_items": null,
            "bottom": null,
            "_model_module": "@jupyter-widgets/base",
            "top": null,
            "grid_column": null,
            "overflow_y": null,
            "overflow_x": null,
            "grid_auto_flow": null,
            "grid_area": null,
            "grid_template_columns": null,
            "flex": null,
            "_model_name": "LayoutModel",
            "justify_items": null,
            "grid_row": null,
            "max_height": null,
            "align_content": null,
            "visibility": null,
            "align_self": null,
            "height": null,
            "min_height": null,
            "padding": null,
            "grid_auto_rows": null,
            "grid_gap": null,
            "max_width": null,
            "order": null,
            "_view_module_version": "1.2.0",
            "grid_template_areas": null,
            "object_position": null,
            "object_fit": null,
            "grid_auto_columns": null,
            "margin": null,
            "display": null,
            "left": null
          }
        },
        "c419df7f8949490b8a18908deb2dae27": {
          "model_module": "@jupyter-widgets/controls",
          "model_name": "FloatProgressModel",
          "state": {
            "_view_name": "ProgressView",
            "style": "IPY_MODEL_4835e65796e9497a8d35e38e81c9b8b0",
            "_dom_classes": [],
            "description": "Dl Size...: 100%",
            "_model_name": "FloatProgressModel",
            "bar_style": "success",
            "max": 1,
            "_view_module": "@jupyter-widgets/controls",
            "_model_module_version": "1.5.0",
            "value": 1,
            "_view_count": null,
            "_view_module_version": "1.5.0",
            "orientation": "horizontal",
            "min": 0,
            "description_tooltip": null,
            "_model_module": "@jupyter-widgets/controls",
            "layout": "IPY_MODEL_cbb73e30ed3e446dbf7cfd4b325fa67c"
          }
        },
        "47e06022d1a548bb8a551c4ccdc0b62a": {
          "model_module": "@jupyter-widgets/controls",
          "model_name": "HTMLModel",
          "state": {
            "_view_name": "HTMLView",
            "style": "IPY_MODEL_44829c5eb9314f6ab8a8592d457a92c9",
            "_dom_classes": [],
            "description": "",
            "_model_name": "HTMLModel",
            "placeholder": "​",
            "_view_module": "@jupyter-widgets/controls",
            "_model_module_version": "1.5.0",
            "value": " 786/786 [00:10&lt;00:00, 78.52 MiB/s]",
            "_view_count": null,
            "_view_module_version": "1.5.0",
            "description_tooltip": null,
            "_model_module": "@jupyter-widgets/controls",
            "layout": "IPY_MODEL_ab62a16a20214f32a2c956999e2425b3"
          }
        },
        "4835e65796e9497a8d35e38e81c9b8b0": {
          "model_module": "@jupyter-widgets/controls",
          "model_name": "ProgressStyleModel",
          "state": {
            "_view_name": "StyleView",
            "_model_name": "ProgressStyleModel",
            "description_width": "initial",
            "_view_module": "@jupyter-widgets/base",
            "_model_module_version": "1.5.0",
            "_view_count": null,
            "_view_module_version": "1.2.0",
            "bar_color": null,
            "_model_module": "@jupyter-widgets/controls"
          }
        },
        "cbb73e30ed3e446dbf7cfd4b325fa67c": {
          "model_module": "@jupyter-widgets/base",
          "model_name": "LayoutModel",
          "state": {
            "_view_name": "LayoutView",
            "grid_template_rows": null,
            "right": null,
            "justify_content": null,
            "_view_module": "@jupyter-widgets/base",
            "overflow": null,
            "_model_module_version": "1.2.0",
            "_view_count": null,
            "flex_flow": null,
            "width": null,
            "min_width": null,
            "border": null,
            "align_items": null,
            "bottom": null,
            "_model_module": "@jupyter-widgets/base",
            "top": null,
            "grid_column": null,
            "overflow_y": null,
            "overflow_x": null,
            "grid_auto_flow": null,
            "grid_area": null,
            "grid_template_columns": null,
            "flex": null,
            "_model_name": "LayoutModel",
            "justify_items": null,
            "grid_row": null,
            "max_height": null,
            "align_content": null,
            "visibility": null,
            "align_self": null,
            "height": null,
            "min_height": null,
            "padding": null,
            "grid_auto_rows": null,
            "grid_gap": null,
            "max_width": null,
            "order": null,
            "_view_module_version": "1.2.0",
            "grid_template_areas": null,
            "object_position": null,
            "object_fit": null,
            "grid_auto_columns": null,
            "margin": null,
            "display": null,
            "left": null
          }
        },
        "44829c5eb9314f6ab8a8592d457a92c9": {
          "model_module": "@jupyter-widgets/controls",
          "model_name": "DescriptionStyleModel",
          "state": {
            "_view_name": "StyleView",
            "_model_name": "DescriptionStyleModel",
            "description_width": "",
            "_view_module": "@jupyter-widgets/base",
            "_model_module_version": "1.5.0",
            "_view_count": null,
            "_view_module_version": "1.2.0",
            "_model_module": "@jupyter-widgets/controls"
          }
        },
        "ab62a16a20214f32a2c956999e2425b3": {
          "model_module": "@jupyter-widgets/base",
          "model_name": "LayoutModel",
          "state": {
            "_view_name": "LayoutView",
            "grid_template_rows": null,
            "right": null,
            "justify_content": null,
            "_view_module": "@jupyter-widgets/base",
            "overflow": null,
            "_model_module_version": "1.2.0",
            "_view_count": null,
            "flex_flow": null,
            "width": null,
            "min_width": null,
            "border": null,
            "align_items": null,
            "bottom": null,
            "_model_module": "@jupyter-widgets/base",
            "top": null,
            "grid_column": null,
            "overflow_y": null,
            "overflow_x": null,
            "grid_auto_flow": null,
            "grid_area": null,
            "grid_template_columns": null,
            "flex": null,
            "_model_name": "LayoutModel",
            "justify_items": null,
            "grid_row": null,
            "max_height": null,
            "align_content": null,
            "visibility": null,
            "align_self": null,
            "height": null,
            "min_height": null,
            "padding": null,
            "grid_auto_rows": null,
            "grid_gap": null,
            "max_width": null,
            "order": null,
            "_view_module_version": "1.2.0",
            "grid_template_areas": null,
            "object_position": null,
            "object_fit": null,
            "grid_auto_columns": null,
            "margin": null,
            "display": null,
            "left": null
          }
        },
        "cd8f0e9b955b4c4681f94293d73b9d9c": {
          "model_module": "@jupyter-widgets/controls",
          "model_name": "HBoxModel",
          "state": {
            "_view_name": "HBoxView",
            "_dom_classes": [],
            "_model_name": "HBoxModel",
            "_view_module": "@jupyter-widgets/controls",
            "_model_module_version": "1.5.0",
            "_view_count": null,
            "_view_module_version": "1.5.0",
            "box_style": "",
            "layout": "IPY_MODEL_bc3faafbe1a14d8e8f0e224b96c3566d",
            "_model_module": "@jupyter-widgets/controls",
            "children": [
              "IPY_MODEL_ab7e96515dd84598a744fe94dd8555ae",
              "IPY_MODEL_b27e6b448758481d9dbf55ec756aceeb"
            ]
          }
        },
        "bc3faafbe1a14d8e8f0e224b96c3566d": {
          "model_module": "@jupyter-widgets/base",
          "model_name": "LayoutModel",
          "state": {
            "_view_name": "LayoutView",
            "grid_template_rows": null,
            "right": null,
            "justify_content": null,
            "_view_module": "@jupyter-widgets/base",
            "overflow": null,
            "_model_module_version": "1.2.0",
            "_view_count": null,
            "flex_flow": null,
            "width": null,
            "min_width": null,
            "border": null,
            "align_items": null,
            "bottom": null,
            "_model_module": "@jupyter-widgets/base",
            "top": null,
            "grid_column": null,
            "overflow_y": null,
            "overflow_x": null,
            "grid_auto_flow": null,
            "grid_area": null,
            "grid_template_columns": null,
            "flex": null,
            "_model_name": "LayoutModel",
            "justify_items": null,
            "grid_row": null,
            "max_height": null,
            "align_content": null,
            "visibility": null,
            "align_self": null,
            "height": null,
            "min_height": null,
            "padding": null,
            "grid_auto_rows": null,
            "grid_gap": null,
            "max_width": null,
            "order": null,
            "_view_module_version": "1.2.0",
            "grid_template_areas": null,
            "object_position": null,
            "object_fit": null,
            "grid_auto_columns": null,
            "margin": null,
            "display": null,
            "left": null
          }
        },
        "ab7e96515dd84598a744fe94dd8555ae": {
          "model_module": "@jupyter-widgets/controls",
          "model_name": "FloatProgressModel",
          "state": {
            "_view_name": "ProgressView",
            "style": "IPY_MODEL_be407de348e14da7a0b54f898269248f",
            "_dom_classes": [],
            "description": "",
            "_model_name": "FloatProgressModel",
            "bar_style": "info",
            "max": 1,
            "_view_module": "@jupyter-widgets/controls",
            "_model_module_version": "1.5.0",
            "value": 1,
            "_view_count": null,
            "_view_module_version": "1.5.0",
            "orientation": "horizontal",
            "min": 0,
            "description_tooltip": null,
            "_model_module": "@jupyter-widgets/controls",
            "layout": "IPY_MODEL_db2924a97cbf4cd395ca3b7ab0d67287"
          }
        },
        "b27e6b448758481d9dbf55ec756aceeb": {
          "model_module": "@jupyter-widgets/controls",
          "model_name": "HTMLModel",
          "state": {
            "_view_name": "HTMLView",
            "style": "IPY_MODEL_2458d385b8854e298ff825fed3662340",
            "_dom_classes": [],
            "description": "",
            "_model_name": "HTMLModel",
            "placeholder": "​",
            "_view_module": "@jupyter-widgets/controls",
            "_model_module_version": "1.5.0",
            "value": " 23262/0 [00:12&lt;00:00, 1881.01 examples/s]",
            "_view_count": null,
            "_view_module_version": "1.5.0",
            "description_tooltip": null,
            "_model_module": "@jupyter-widgets/controls",
            "layout": "IPY_MODEL_1178612cc4e849f79ec3f9b29cf100d2"
          }
        },
        "be407de348e14da7a0b54f898269248f": {
          "model_module": "@jupyter-widgets/controls",
          "model_name": "ProgressStyleModel",
          "state": {
            "_view_name": "StyleView",
            "_model_name": "ProgressStyleModel",
            "description_width": "initial",
            "_view_module": "@jupyter-widgets/base",
            "_model_module_version": "1.5.0",
            "_view_count": null,
            "_view_module_version": "1.2.0",
            "bar_color": null,
            "_model_module": "@jupyter-widgets/controls"
          }
        },
        "db2924a97cbf4cd395ca3b7ab0d67287": {
          "model_module": "@jupyter-widgets/base",
          "model_name": "LayoutModel",
          "state": {
            "_view_name": "LayoutView",
            "grid_template_rows": null,
            "right": null,
            "justify_content": null,
            "_view_module": "@jupyter-widgets/base",
            "overflow": null,
            "_model_module_version": "1.2.0",
            "_view_count": null,
            "flex_flow": null,
            "width": null,
            "min_width": null,
            "border": null,
            "align_items": null,
            "bottom": null,
            "_model_module": "@jupyter-widgets/base",
            "top": null,
            "grid_column": null,
            "overflow_y": null,
            "overflow_x": null,
            "grid_auto_flow": null,
            "grid_area": null,
            "grid_template_columns": null,
            "flex": null,
            "_model_name": "LayoutModel",
            "justify_items": null,
            "grid_row": null,
            "max_height": null,
            "align_content": null,
            "visibility": null,
            "align_self": null,
            "height": null,
            "min_height": null,
            "padding": null,
            "grid_auto_rows": null,
            "grid_gap": null,
            "max_width": null,
            "order": null,
            "_view_module_version": "1.2.0",
            "grid_template_areas": null,
            "object_position": null,
            "object_fit": null,
            "grid_auto_columns": null,
            "margin": null,
            "display": null,
            "left": null
          }
        },
        "2458d385b8854e298ff825fed3662340": {
          "model_module": "@jupyter-widgets/controls",
          "model_name": "DescriptionStyleModel",
          "state": {
            "_view_name": "StyleView",
            "_model_name": "DescriptionStyleModel",
            "description_width": "",
            "_view_module": "@jupyter-widgets/base",
            "_model_module_version": "1.5.0",
            "_view_count": null,
            "_view_module_version": "1.2.0",
            "_model_module": "@jupyter-widgets/controls"
          }
        },
        "1178612cc4e849f79ec3f9b29cf100d2": {
          "model_module": "@jupyter-widgets/base",
          "model_name": "LayoutModel",
          "state": {
            "_view_name": "LayoutView",
            "grid_template_rows": null,
            "right": null,
            "justify_content": null,
            "_view_module": "@jupyter-widgets/base",
            "overflow": null,
            "_model_module_version": "1.2.0",
            "_view_count": null,
            "flex_flow": null,
            "width": null,
            "min_width": null,
            "border": null,
            "align_items": null,
            "bottom": null,
            "_model_module": "@jupyter-widgets/base",
            "top": null,
            "grid_column": null,
            "overflow_y": null,
            "overflow_x": null,
            "grid_auto_flow": null,
            "grid_area": null,
            "grid_template_columns": null,
            "flex": null,
            "_model_name": "LayoutModel",
            "justify_items": null,
            "grid_row": null,
            "max_height": null,
            "align_content": null,
            "visibility": null,
            "align_self": null,
            "height": null,
            "min_height": null,
            "padding": null,
            "grid_auto_rows": null,
            "grid_gap": null,
            "max_width": null,
            "order": null,
            "_view_module_version": "1.2.0",
            "grid_template_areas": null,
            "object_position": null,
            "object_fit": null,
            "grid_auto_columns": null,
            "margin": null,
            "display": null,
            "left": null
          }
        },
        "2ec5cd9dac224d9bb82fbe9cd838ec78": {
          "model_module": "@jupyter-widgets/controls",
          "model_name": "HBoxModel",
          "state": {
            "_view_name": "HBoxView",
            "_dom_classes": [],
            "_model_name": "HBoxModel",
            "_view_module": "@jupyter-widgets/controls",
            "_model_module_version": "1.5.0",
            "_view_count": null,
            "_view_module_version": "1.5.0",
            "box_style": "",
            "layout": "IPY_MODEL_84678d76f1dc4ac68e28c5c5e6f1cdcb",
            "_model_module": "@jupyter-widgets/controls",
            "children": [
              "IPY_MODEL_d6aaed4c780b44059876873bf6cd9143",
              "IPY_MODEL_60bf87a3798b4b159b22106e92d047c0"
            ]
          }
        },
        "84678d76f1dc4ac68e28c5c5e6f1cdcb": {
          "model_module": "@jupyter-widgets/base",
          "model_name": "LayoutModel",
          "state": {
            "_view_name": "LayoutView",
            "grid_template_rows": null,
            "right": null,
            "justify_content": null,
            "_view_module": "@jupyter-widgets/base",
            "overflow": null,
            "_model_module_version": "1.2.0",
            "_view_count": null,
            "flex_flow": null,
            "width": null,
            "min_width": null,
            "border": null,
            "align_items": null,
            "bottom": null,
            "_model_module": "@jupyter-widgets/base",
            "top": null,
            "grid_column": null,
            "overflow_y": null,
            "overflow_x": null,
            "grid_auto_flow": null,
            "grid_area": null,
            "grid_template_columns": null,
            "flex": null,
            "_model_name": "LayoutModel",
            "justify_items": null,
            "grid_row": null,
            "max_height": null,
            "align_content": null,
            "visibility": null,
            "align_self": null,
            "height": null,
            "min_height": null,
            "padding": null,
            "grid_auto_rows": null,
            "grid_gap": null,
            "max_width": null,
            "order": null,
            "_view_module_version": "1.2.0",
            "grid_template_areas": null,
            "object_position": null,
            "object_fit": null,
            "grid_auto_columns": null,
            "margin": null,
            "display": null,
            "left": null
          }
        },
        "d6aaed4c780b44059876873bf6cd9143": {
          "model_module": "@jupyter-widgets/controls",
          "model_name": "FloatProgressModel",
          "state": {
            "_view_name": "ProgressView",
            "style": "IPY_MODEL_2a1f105673df459d9093418b35d5989e",
            "_dom_classes": [],
            "description": " 99%",
            "_model_name": "FloatProgressModel",
            "bar_style": "danger",
            "max": 23262,
            "_view_module": "@jupyter-widgets/controls",
            "_model_module_version": "1.5.0",
            "value": 23009,
            "_view_count": null,
            "_view_module_version": "1.5.0",
            "orientation": "horizontal",
            "min": 0,
            "description_tooltip": null,
            "_model_module": "@jupyter-widgets/controls",
            "layout": "IPY_MODEL_a55f8b3118c84424b95eae2edf2ea728"
          }
        },
        "60bf87a3798b4b159b22106e92d047c0": {
          "model_module": "@jupyter-widgets/controls",
          "model_name": "HTMLModel",
          "state": {
            "_view_name": "HTMLView",
            "style": "IPY_MODEL_921fa49eda5d4b52b3731d7a90c2aa29",
            "_dom_classes": [],
            "description": "",
            "_model_name": "HTMLModel",
            "placeholder": "​",
            "_view_module": "@jupyter-widgets/controls",
            "_model_module_version": "1.5.0",
            "value": " 23009/23262 [00:19&lt;00:00, 5735.12 examples/s]",
            "_view_count": null,
            "_view_module_version": "1.5.0",
            "description_tooltip": null,
            "_model_module": "@jupyter-widgets/controls",
            "layout": "IPY_MODEL_9ab231dd9f554fb88877ea132eb2d464"
          }
        },
        "2a1f105673df459d9093418b35d5989e": {
          "model_module": "@jupyter-widgets/controls",
          "model_name": "ProgressStyleModel",
          "state": {
            "_view_name": "StyleView",
            "_model_name": "ProgressStyleModel",
            "description_width": "initial",
            "_view_module": "@jupyter-widgets/base",
            "_model_module_version": "1.5.0",
            "_view_count": null,
            "_view_module_version": "1.2.0",
            "bar_color": null,
            "_model_module": "@jupyter-widgets/controls"
          }
        },
        "a55f8b3118c84424b95eae2edf2ea728": {
          "model_module": "@jupyter-widgets/base",
          "model_name": "LayoutModel",
          "state": {
            "_view_name": "LayoutView",
            "grid_template_rows": null,
            "right": null,
            "justify_content": null,
            "_view_module": "@jupyter-widgets/base",
            "overflow": null,
            "_model_module_version": "1.2.0",
            "_view_count": null,
            "flex_flow": null,
            "width": null,
            "min_width": null,
            "border": null,
            "align_items": null,
            "bottom": null,
            "_model_module": "@jupyter-widgets/base",
            "top": null,
            "grid_column": null,
            "overflow_y": null,
            "overflow_x": null,
            "grid_auto_flow": null,
            "grid_area": null,
            "grid_template_columns": null,
            "flex": null,
            "_model_name": "LayoutModel",
            "justify_items": null,
            "grid_row": null,
            "max_height": null,
            "align_content": null,
            "visibility": null,
            "align_self": null,
            "height": null,
            "min_height": null,
            "padding": null,
            "grid_auto_rows": null,
            "grid_gap": null,
            "max_width": null,
            "order": null,
            "_view_module_version": "1.2.0",
            "grid_template_areas": null,
            "object_position": null,
            "object_fit": null,
            "grid_auto_columns": null,
            "margin": null,
            "display": null,
            "left": null
          }
        },
        "921fa49eda5d4b52b3731d7a90c2aa29": {
          "model_module": "@jupyter-widgets/controls",
          "model_name": "DescriptionStyleModel",
          "state": {
            "_view_name": "StyleView",
            "_model_name": "DescriptionStyleModel",
            "description_width": "",
            "_view_module": "@jupyter-widgets/base",
            "_model_module_version": "1.5.0",
            "_view_count": null,
            "_view_module_version": "1.2.0",
            "_model_module": "@jupyter-widgets/controls"
          }
        },
        "9ab231dd9f554fb88877ea132eb2d464": {
          "model_module": "@jupyter-widgets/base",
          "model_name": "LayoutModel",
          "state": {
            "_view_name": "LayoutView",
            "grid_template_rows": null,
            "right": null,
            "justify_content": null,
            "_view_module": "@jupyter-widgets/base",
            "overflow": null,
            "_model_module_version": "1.2.0",
            "_view_count": null,
            "flex_flow": null,
            "width": null,
            "min_width": null,
            "border": null,
            "align_items": null,
            "bottom": null,
            "_model_module": "@jupyter-widgets/base",
            "top": null,
            "grid_column": null,
            "overflow_y": null,
            "overflow_x": null,
            "grid_auto_flow": null,
            "grid_area": null,
            "grid_template_columns": null,
            "flex": null,
            "_model_name": "LayoutModel",
            "justify_items": null,
            "grid_row": null,
            "max_height": null,
            "align_content": null,
            "visibility": null,
            "align_self": null,
            "height": null,
            "min_height": null,
            "padding": null,
            "grid_auto_rows": null,
            "grid_gap": null,
            "max_width": null,
            "order": null,
            "_view_module_version": "1.2.0",
            "grid_template_areas": null,
            "object_position": null,
            "object_fit": null,
            "grid_auto_columns": null,
            "margin": null,
            "display": null,
            "left": null
          }
        }
      }
    }
  },
  "cells": [
    {
      "cell_type": "markdown",
      "metadata": {
        "id": "view-in-github",
        "colab_type": "text"
      },
      "source": [
        "<a href=\"https://colab.research.google.com/github/nlee0212/TFCertificatePrep/blob/main/TF_Certificate_Image_Classification_cats_vs_dogs.ipynb\" target=\"_parent\"><img src=\"https://colab.research.google.com/assets/colab-badge.svg\" alt=\"Open In Colab\"/></a>"
      ]
    },
    {
      "cell_type": "markdown",
      "metadata": {
        "id": "vY-Ca0dhGTAk"
      },
      "source": [
        "# Category 3 - Cats vs Dogs 분류\n",
        "\n",
        "* Convolution Neural network 활용한 분류 모델 (Classification)\n",
        "* tensorflow-datasets 를 활용한 데이터 전처리"
      ]
    },
    {
      "cell_type": "markdown",
      "metadata": {
        "id": "ww0hxcaSGb0m"
      },
      "source": [
        "## 확인"
      ]
    },
    {
      "cell_type": "markdown",
      "metadata": {
        "id": "FI6oK1X-GdJJ"
      },
      "source": [
        "1. GPU 옵션 켜져 있는지 확인할 것!!! (수정 - 노트설정 - 하드웨어설정 (GPU))"
      ]
    },
    {
      "cell_type": "markdown",
      "metadata": {
        "id": "1yoe-K38GQ4b"
      },
      "source": [
        "## 순서"
      ]
    },
    {
      "cell_type": "markdown",
      "metadata": {
        "id": "Bc6iTV8DGPop"
      },
      "source": [
        "1. **import**: 필요한 모듈 import\n",
        "2. **전처리**: 학습에 필요한 데이터 전처리를 수행합니다.\n",
        "3. **모델링(model)**: 모델을 정의합니다.\n",
        "4. **컴파일(compile)**: 모델을 생성합니다.\n",
        "5. **학습 (fit)**: 모델을 학습시킵니다."
      ]
    },
    {
      "cell_type": "markdown",
      "metadata": {
        "id": "msi1agesayxW"
      },
      "source": [
        "## 문제"
      ]
    },
    {
      "cell_type": "markdown",
      "metadata": {
        "id": "Bqqzpm1P8dd9"
      },
      "source": [
        "Computer Vision with CNNs\n",
        "<br>\n",
        "<br>For this exercise you will build a cats v dogs classifier\n",
        "<br>using the Cats v Dogs dataset from TFDS.\n",
        "<br>Be sure to use the final layer as shown \n",
        "<br>    **(Dense, 2 neurons, softmax activation)**\n",
        "<br>\n",
        "<br>The testing infrastructre will **resize all images to 224x224**\n",
        "<br>with **3 bytes of color depth**. Make sure your input layer trains\n",
        "<br>images to that specification, or the tests will fail.\n",
        "<br>\n",
        "<br>Make sure your output layer is exactly as specified here, or the \n",
        "<br>tests will fail.\n",
        "\n",
        "----------------------------------------\n",
        "<br>이 연습에서는 cats v dogs 분류기를 만들 것입니다.\n",
        "TFDS의 Cats v Dogs 데이터 세트 사용.\n",
        "<br> 그림과 같이 최종 레이어를 사용하십시오\n",
        "<br> **(Dense, 뉴런 2 개, activation='softmax')**\n",
        "<br>\n",
        "<br> 테스트 인프라는 **모든 이미지의 크기를 224x224로 조정합니다(컬러사진)**. 입력 레이어를 확인하십시오"
      ]
    },
    {
      "cell_type": "code",
      "metadata": {
        "id": "VXJfrSfG8dd5"
      },
      "source": [
        "import tensorflow_datasets as tfds\n",
        "import tensorflow as tf\n",
        "\n",
        "from tensorflow.keras.layers import Dense, Conv2D, MaxPooling2D, Flatten, Dropout\n",
        "from tensorflow.keras.models import Sequential\n",
        "from tensorflow.keras.callbacks import ModelCheckpoint"
      ],
      "execution_count": 1,
      "outputs": []
    },
    {
      "cell_type": "markdown",
      "metadata": {
        "id": "zIXfMfFq8dd9"
      },
      "source": [
        "## Load Dataset"
      ]
    },
    {
      "cell_type": "markdown",
      "metadata": {
        "id": "Kg0sXFW2nil7"
      },
      "source": [
        "**tensorflow-datasets**를 활용합니다."
      ]
    },
    {
      "cell_type": "markdown",
      "metadata": {
        "id": "YTjsZFWGn117"
      },
      "source": [
        "* [Cats vs Dogs 데이터셋 문서 보기](https://www.tensorflow.org/datasets/catalog/cats_vs_dogs?hl=ko)\n",
        "\n",
        "* [tensorflow-datasets 다루기](https://www.tensorflow.org/datasets/splits?hl=ko)"
      ]
    },
    {
      "cell_type": "markdown",
      "metadata": {
        "id": "hTCJ8FxgogB_"
      },
      "source": [
        "**시험에서 주어지는 데이터셋 로드 형태**\n",
        "\n",
        "* 예전 방식이므로 아래처러 주어지는 코드를 과감히 삭제 후, 아래 제공되는 방식으로 변경합니다."
      ]
    },
    {
      "cell_type": "code",
      "metadata": {
        "id": "v70IGh4o8dd-",
        "colab": {
          "base_uri": "https://localhost:8080/",
          "height": 274,
          "referenced_widgets": [
            "e71b252e68904888a14c1268d72980ca",
            "1d797cb48d6a4714a56196175c3d201b",
            "d458c402ad5d46568264fe490e560c98",
            "3e089e75be294c7c9c9031ac00d56f09",
            "de43330d8f9c46c6ae757d28b86687dd",
            "8404183d63bd4915a58951541a1afde7",
            "6cc86b8632e7429bb08b865556c6ef97",
            "cd2fd15a350c43c3a2716a1378562b36",
            "7fd6de9f214646a2bd3787bbc1e2b32d",
            "2b7cd62677804a70894072152e0dbba6",
            "c419df7f8949490b8a18908deb2dae27",
            "47e06022d1a548bb8a551c4ccdc0b62a",
            "4835e65796e9497a8d35e38e81c9b8b0",
            "cbb73e30ed3e446dbf7cfd4b325fa67c",
            "44829c5eb9314f6ab8a8592d457a92c9",
            "ab62a16a20214f32a2c956999e2425b3",
            "cd8f0e9b955b4c4681f94293d73b9d9c",
            "bc3faafbe1a14d8e8f0e224b96c3566d",
            "ab7e96515dd84598a744fe94dd8555ae",
            "b27e6b448758481d9dbf55ec756aceeb",
            "be407de348e14da7a0b54f898269248f",
            "db2924a97cbf4cd395ca3b7ab0d67287",
            "2458d385b8854e298ff825fed3662340",
            "1178612cc4e849f79ec3f9b29cf100d2",
            "2ec5cd9dac224d9bb82fbe9cd838ec78",
            "84678d76f1dc4ac68e28c5c5e6f1cdcb",
            "d6aaed4c780b44059876873bf6cd9143",
            "60bf87a3798b4b159b22106e92d047c0",
            "2a1f105673df459d9093418b35d5989e",
            "a55f8b3118c84424b95eae2edf2ea728",
            "921fa49eda5d4b52b3731d7a90c2aa29",
            "9ab231dd9f554fb88877ea132eb2d464"
          ]
        },
        "outputId": "0369275d-d367-49ae-d145-429b06d3c8a4"
      },
      "source": [
        "dataset_name = 'cats_vs_dogs'\n",
        "train_dataset = tfds.load(name=dataset_name, split='train')"
      ],
      "execution_count": 2,
      "outputs": [
        {
          "output_type": "stream",
          "text": [
            "\u001b[1mDownloading and preparing dataset cats_vs_dogs/4.0.0 (download: 786.68 MiB, generated: Unknown size, total: 786.68 MiB) to /root/tensorflow_datasets/cats_vs_dogs/4.0.0...\u001b[0m\n"
          ],
          "name": "stdout"
        },
        {
          "output_type": "display_data",
          "data": {
            "application/vnd.jupyter.widget-view+json": {
              "model_id": "e71b252e68904888a14c1268d72980ca",
              "version_minor": 0,
              "version_major": 2
            },
            "text/plain": [
              "HBox(children=(FloatProgress(value=1.0, bar_style='info', description='Dl Completed...', max=1.0, style=Progre…"
            ]
          },
          "metadata": {
            "tags": []
          }
        },
        {
          "output_type": "display_data",
          "data": {
            "application/vnd.jupyter.widget-view+json": {
              "model_id": "7fd6de9f214646a2bd3787bbc1e2b32d",
              "version_minor": 0,
              "version_major": 2
            },
            "text/plain": [
              "HBox(children=(FloatProgress(value=1.0, bar_style='info', description='Dl Size...', max=1.0, style=ProgressSty…"
            ]
          },
          "metadata": {
            "tags": []
          }
        },
        {
          "output_type": "stream",
          "text": [
            "\n",
            "\n",
            "\n",
            "\n"
          ],
          "name": "stdout"
        },
        {
          "output_type": "display_data",
          "data": {
            "application/vnd.jupyter.widget-view+json": {
              "model_id": "cd8f0e9b955b4c4681f94293d73b9d9c",
              "version_minor": 0,
              "version_major": 2
            },
            "text/plain": [
              "HBox(children=(FloatProgress(value=1.0, bar_style='info', max=1.0), HTML(value='')))"
            ]
          },
          "metadata": {
            "tags": []
          }
        },
        {
          "output_type": "stream",
          "text": [
            "WARNING:absl:1738 images were corrupted and were skipped\n"
          ],
          "name": "stderr"
        },
        {
          "output_type": "stream",
          "text": [
            "\rShuffling and writing examples to /root/tensorflow_datasets/cats_vs_dogs/4.0.0.incomplete24TBAB/cats_vs_dogs-train.tfrecord\n"
          ],
          "name": "stdout"
        },
        {
          "output_type": "display_data",
          "data": {
            "application/vnd.jupyter.widget-view+json": {
              "model_id": "2ec5cd9dac224d9bb82fbe9cd838ec78",
              "version_minor": 0,
              "version_major": 2
            },
            "text/plain": [
              "HBox(children=(FloatProgress(value=0.0, max=23262.0), HTML(value='')))"
            ]
          },
          "metadata": {
            "tags": []
          }
        },
        {
          "output_type": "stream",
          "text": [
            "\u001b[1mDataset cats_vs_dogs downloaded and prepared to /root/tensorflow_datasets/cats_vs_dogs/4.0.0. Subsequent calls will reuse this data.\u001b[0m\n"
          ],
          "name": "stdout"
        }
      ]
    },
    {
      "cell_type": "code",
      "metadata": {
        "id": "e1VLqKMO8deA"
      },
      "source": [
        "dataset_name = 'cats_vs_dogs'\n",
        "\n",
        "# 처음 80%의 데이터만 사용\n",
        "train_dataset = tfds.load(name=dataset_name, split='train[:80%]')\n",
        "\n",
        "# 최근 20%의 데이터만 사용\n",
        "valid_dataset = tfds.load(name=dataset_name, split='train[80%:]')"
      ],
      "execution_count": 3,
      "outputs": []
    },
    {
      "cell_type": "markdown",
      "metadata": {
        "id": "739L8AKh-OZG"
      },
      "source": [
        "시험에서 요구하는 **전처리 요구 조건**은 다음과 같습니다.\n",
        "\n",
        "1. 이미지 정규화 (Normalization)\n",
        "2. 이미지 사이즈 맞추기: (224 X 224) \n",
        "3. image(x), label(y)를 분할"
      ]
    },
    {
      "cell_type": "markdown",
      "metadata": {
        "id": "H7fLV4E6_8uD"
      },
      "source": [
        "**[실습코드]**"
      ]
    },
    {
      "cell_type": "code",
      "metadata": {
        "id": "zVGrlzVd_8T9",
        "colab": {
          "base_uri": "https://localhost:8080/"
        },
        "outputId": "1babe126-e11c-449a-a8f0-27bd669e815f"
      },
      "source": [
        "for data in train_dataset.take(3):\n",
        "  print(data)\n",
        "\n",
        "## numpy = 1이런 식으로 되어 있으면 one-hot encoding되어 있지 않다는 의미!"
      ],
      "execution_count": 5,
      "outputs": [
        {
          "output_type": "stream",
          "text": [
            "{'image': <tf.Tensor: shape=(262, 350, 3), dtype=uint8, numpy=\n",
            "array([[[242, 248, 248],\n",
            "        [240, 246, 246],\n",
            "        [235, 239, 238],\n",
            "        ...,\n",
            "        [188, 174, 127],\n",
            "        [145, 133,  85],\n",
            "        [161, 149, 101]],\n",
            "\n",
            "       [[238, 244, 244],\n",
            "        [239, 245, 245],\n",
            "        [235, 239, 238],\n",
            "        ...,\n",
            "        [188, 176, 128],\n",
            "        [165, 153, 105],\n",
            "        [178, 168, 119]],\n",
            "\n",
            "       [[237, 241, 240],\n",
            "        [238, 242, 241],\n",
            "        [232, 236, 235],\n",
            "        ...,\n",
            "        [200, 187, 142],\n",
            "        [201, 191, 142],\n",
            "        [200, 192, 143]],\n",
            "\n",
            "       ...,\n",
            "\n",
            "       [[130, 122,  75],\n",
            "        [152, 146,  98],\n",
            "        [154, 148,  98],\n",
            "        ...,\n",
            "        [161, 166, 136],\n",
            "        [ 77,  86,  57],\n",
            "        [ 71,  82,  52]],\n",
            "\n",
            "       [[167, 159, 112],\n",
            "        [105,  99,  51],\n",
            "        [148, 142,  92],\n",
            "        ...,\n",
            "        [ 67,  73,  45],\n",
            "        [ 46,  56,  29],\n",
            "        [ 41,  54,  26]],\n",
            "\n",
            "       [[138, 130,  83],\n",
            "        [ 83,  77,  29],\n",
            "        [135, 129,  79],\n",
            "        ...,\n",
            "        [ 68,  74,  46],\n",
            "        [ 14,  27,   1],\n",
            "        [ 63,  77,  51]]], dtype=uint8)>, 'image/filename': <tf.Tensor: shape=(), dtype=string, numpy=b'PetImages/Dog/10396.jpg'>, 'label': <tf.Tensor: shape=(), dtype=int64, numpy=1>}\n",
            "{'image': <tf.Tensor: shape=(409, 336, 3), dtype=uint8, numpy=\n",
            "array([[[215, 165, 114],\n",
            "        [187, 135,  85],\n",
            "        [232, 176, 129],\n",
            "        ...,\n",
            "        [ 95,  95,  23],\n",
            "        [100, 103,  32],\n",
            "        [ 99, 105,  35]],\n",
            "\n",
            "       [[228, 178, 127],\n",
            "        [197, 145,  95],\n",
            "        [243, 182, 135],\n",
            "        ...,\n",
            "        [103, 103,  31],\n",
            "        [109, 110,  40],\n",
            "        [ 99, 105,  35]],\n",
            "\n",
            "       [[211, 164, 110],\n",
            "        [205, 152, 100],\n",
            "        [250, 182, 135],\n",
            "        ...,\n",
            "        [ 93,  90,  21],\n",
            "        [100, 100,  30],\n",
            "        [ 91,  94,  23]],\n",
            "\n",
            "       ...,\n",
            "\n",
            "       [[ 89,  82,  36],\n",
            "        [ 89,  83,  33],\n",
            "        [ 82,  77,  21],\n",
            "        ...,\n",
            "        [ 95,  92,  39],\n",
            "        [ 85,  78,  24],\n",
            "        [ 80,  73,  19]],\n",
            "\n",
            "       [[ 85,  77,  31],\n",
            "        [ 91,  83,  34],\n",
            "        [ 94,  88,  26],\n",
            "        ...,\n",
            "        [104,  99,  44],\n",
            "        [ 97,  90,  35],\n",
            "        [ 73,  67,   9]],\n",
            "\n",
            "       [[ 88,  76,  34],\n",
            "        [ 87,  77,  26],\n",
            "        [ 92,  84,  21],\n",
            "        ...,\n",
            "        [104,  99,  41],\n",
            "        [127, 121,  63],\n",
            "        [ 90,  81,  22]]], dtype=uint8)>, 'image/filename': <tf.Tensor: shape=(), dtype=string, numpy=b'PetImages/Dog/4077.jpg'>, 'label': <tf.Tensor: shape=(), dtype=int64, numpy=1>}\n",
            "{'image': <tf.Tensor: shape=(493, 500, 3), dtype=uint8, numpy=\n",
            "array([[[177, 183, 157],\n",
            "        [185, 191, 165],\n",
            "        [192, 198, 172],\n",
            "        ...,\n",
            "        [ 78,  78,  78],\n",
            "        [ 76,  76,  76],\n",
            "        [ 74,  74,  74]],\n",
            "\n",
            "       [[166, 172, 146],\n",
            "        [174, 180, 154],\n",
            "        [182, 188, 162],\n",
            "        ...,\n",
            "        [ 79,  79,  79],\n",
            "        [ 76,  76,  76],\n",
            "        [ 74,  74,  74]],\n",
            "\n",
            "       [[167, 173, 147],\n",
            "        [175, 181, 155],\n",
            "        [183, 189, 163],\n",
            "        ...,\n",
            "        [ 79,  79,  79],\n",
            "        [ 77,  77,  77],\n",
            "        [ 75,  75,  75]],\n",
            "\n",
            "       ...,\n",
            "\n",
            "       [[204, 219, 188],\n",
            "        [183, 198, 165],\n",
            "        [154, 170, 134],\n",
            "        ...,\n",
            "        [223, 223, 223],\n",
            "        [226, 226, 226],\n",
            "        [228, 228, 228]],\n",
            "\n",
            "       [[217, 232, 201],\n",
            "        [200, 215, 184],\n",
            "        [173, 188, 155],\n",
            "        ...,\n",
            "        [222, 222, 222],\n",
            "        [224, 224, 224],\n",
            "        [227, 227, 227]],\n",
            "\n",
            "       [[231, 244, 216],\n",
            "        [219, 232, 202],\n",
            "        [192, 207, 174],\n",
            "        ...,\n",
            "        [222, 222, 222],\n",
            "        [224, 224, 224],\n",
            "        [226, 226, 226]]], dtype=uint8)>, 'image/filename': <tf.Tensor: shape=(), dtype=string, numpy=b'PetImages/Dog/10497.jpg'>, 'label': <tf.Tensor: shape=(), dtype=int64, numpy=1>}\n"
          ],
          "name": "stdout"
        }
      ]
    },
    {
      "cell_type": "code",
      "metadata": {
        "id": "D6N-h9Nm-S1m"
      },
      "source": [
        ""
      ],
      "execution_count": null,
      "outputs": []
    },
    {
      "cell_type": "code",
      "metadata": {
        "id": "fV1LU9W1-Swt"
      },
      "source": [
        "def preprocess(data):\n",
        "    # x, y 데이터를 정의합니다.\n",
        "    x = data['image']\n",
        "    y = data['label']\n",
        "    # image 정규화(Normalization)\n",
        "    x = tf.cast(x, tf.float32) / 255.0\n",
        "    # 사이즈를 (224, 224)로 변환합니다.\n",
        "    x = tf.image.resize(x, size=(224, 224))\n",
        "    # x, y  데이터를 return 합니다.\n",
        "    return x, y"
      ],
      "execution_count": 9,
      "outputs": []
    },
    {
      "cell_type": "markdown",
      "metadata": {
        "id": "cPQ9hOrnpHKj"
      },
      "source": [
        "만든 전처리 함수(preprocessing)를 **dataset에 mapping**하고, **batch_size도 지정**합니다."
      ]
    },
    {
      "cell_type": "code",
      "metadata": {
        "id": "Wq-NyPMI_oZM"
      },
      "source": [
        "batch_size=32"
      ],
      "execution_count": 10,
      "outputs": []
    },
    {
      "cell_type": "code",
      "metadata": {
        "id": "JRM0LRxt-Sru"
      },
      "source": [
        "train_data = train_dataset.map(preprocess).batch(batch_size)\n",
        "valid_data = valid_dataset.map(preprocess).batch(batch_size)"
      ],
      "execution_count": 11,
      "outputs": []
    },
    {
      "cell_type": "markdown",
      "metadata": {
        "id": "uvvarzxw8ded"
      },
      "source": [
        "## 모델 정의 (Sequential)"
      ]
    },
    {
      "cell_type": "markdown",
      "metadata": {
        "id": "azRvYVbQnim5"
      },
      "source": [
        "이제 Modeling을 할 차례입니다.\n",
        "\n",
        "`Sequential` 모델 안에서 층을 깊게 쌓아 올려 주면 됩니다.\n",
        "\n",
        "1. `input_shape`는 (height, width, color_channel)입니다. cats vs dogs 문제에서는 (224, 224, 3) 이 됩니다.\n",
        "2. 깊은 출력층과 더 많은 Layer를 쌓습니다.\n",
        "3. Dense Layer에 `activation='relu'`를 적용합니다.\n",
        "4. 분류(Classification)의 마지막 층의 출력 숫자는 분류하고자 하는 클래스 갯수와 **같아야** 합니다.\n"
      ]
    },
    {
      "cell_type": "code",
      "metadata": {
        "id": "rpWdaUGX8dee"
      },
      "source": [
        "model = Sequential([\n",
        "    Conv2D(64, (3, 3), input_shape=(224, 224, 3), activation='relu'),\n",
        "    MaxPooling2D(2, 2),\n",
        "    Conv2D(64, (3, 3), activation='relu'),\n",
        "    MaxPooling2D(2, 2),\n",
        "    Conv2D(128, (3, 3), activation='relu'),\n",
        "    MaxPooling2D(2, 2),\n",
        "    Conv2D(128, (3, 3), activation='relu'),\n",
        "    MaxPooling2D(2, 2),\n",
        "    Conv2D(256, (3, 3), activation='relu'),\n",
        "    MaxPooling2D(2, 2),\n",
        "    Flatten(),\n",
        "    Dropout(0.5),\n",
        "    Dense(512, activation='relu'),\n",
        "    Dense(128, activation='relu'),\n",
        "    Dense(2, activation='softmax'),\n",
        "])"
      ],
      "execution_count": 12,
      "outputs": []
    },
    {
      "cell_type": "code",
      "metadata": {
        "id": "iQRWnG9A8def",
        "colab": {
          "base_uri": "https://localhost:8080/"
        },
        "outputId": "8f9b3f9e-e14d-443b-b391-0fe65828884c"
      },
      "source": [
        "model.summary()"
      ],
      "execution_count": 13,
      "outputs": [
        {
          "output_type": "stream",
          "text": [
            "Model: \"sequential\"\n",
            "_________________________________________________________________\n",
            "Layer (type)                 Output Shape              Param #   \n",
            "=================================================================\n",
            "conv2d (Conv2D)              (None, 222, 222, 64)      1792      \n",
            "_________________________________________________________________\n",
            "max_pooling2d (MaxPooling2D) (None, 111, 111, 64)      0         \n",
            "_________________________________________________________________\n",
            "conv2d_1 (Conv2D)            (None, 109, 109, 64)      36928     \n",
            "_________________________________________________________________\n",
            "max_pooling2d_1 (MaxPooling2 (None, 54, 54, 64)        0         \n",
            "_________________________________________________________________\n",
            "conv2d_2 (Conv2D)            (None, 52, 52, 128)       73856     \n",
            "_________________________________________________________________\n",
            "max_pooling2d_2 (MaxPooling2 (None, 26, 26, 128)       0         \n",
            "_________________________________________________________________\n",
            "conv2d_3 (Conv2D)            (None, 24, 24, 128)       147584    \n",
            "_________________________________________________________________\n",
            "max_pooling2d_3 (MaxPooling2 (None, 12, 12, 128)       0         \n",
            "_________________________________________________________________\n",
            "conv2d_4 (Conv2D)            (None, 10, 10, 256)       295168    \n",
            "_________________________________________________________________\n",
            "max_pooling2d_4 (MaxPooling2 (None, 5, 5, 256)         0         \n",
            "_________________________________________________________________\n",
            "flatten (Flatten)            (None, 6400)              0         \n",
            "_________________________________________________________________\n",
            "dropout (Dropout)            (None, 6400)              0         \n",
            "_________________________________________________________________\n",
            "dense (Dense)                (None, 512)               3277312   \n",
            "_________________________________________________________________\n",
            "dense_1 (Dense)              (None, 128)               65664     \n",
            "_________________________________________________________________\n",
            "dense_2 (Dense)              (None, 2)                 258       \n",
            "=================================================================\n",
            "Total params: 3,898,562\n",
            "Trainable params: 3,898,562\n",
            "Non-trainable params: 0\n",
            "_________________________________________________________________\n"
          ],
          "name": "stdout"
        }
      ]
    },
    {
      "cell_type": "markdown",
      "metadata": {
        "id": "wnmQV-fDnim8"
      },
      "source": [
        "## 컴파일 (compile)"
      ]
    },
    {
      "cell_type": "markdown",
      "metadata": {
        "id": "pHQ1abHXK8e9"
      },
      "source": [
        "1. `optimizer`는 가장 최적화가 잘되는 알고리즘인 'adam'을 사용합니다.\n",
        "2. `loss`설정\n",
        "  * 출력층 activation이 `sigmoid` 인 경우: `binary_crossentropy`\n",
        "  * 출력층 activation이 `softmax` 인 경우: \n",
        "    * 원핫인코딩(O): `categorical_crossentropy`\n",
        "    * 원핫인코딩(X): `sparse_categorical_crossentropy`)\n",
        "3. `metrics`를 'acc' 혹은 'accuracy'로 지정하면, 학습시 정확도를 모니터링 할 수 있습니다."
      ]
    },
    {
      "cell_type": "markdown",
      "metadata": {
        "id": "eXGMljJQhmp_"
      },
      "source": [
        "model.compile()"
      ]
    },
    {
      "cell_type": "code",
      "metadata": {
        "id": "QCLw6RMZnim-"
      },
      "source": [
        "model.compile(optimizer='adam', loss='sparse_categorical_crossentropy', metrics=['acc'])"
      ],
      "execution_count": 14,
      "outputs": []
    },
    {
      "cell_type": "markdown",
      "metadata": {
        "id": "NyLUPgGCninB"
      },
      "source": [
        "## ModelCheckpoint: 체크포인트 생성"
      ]
    },
    {
      "cell_type": "markdown",
      "metadata": {
        "id": "46Oi04ZMLtEB"
      },
      "source": [
        "`val_loss` 기준으로 epoch 마다 최적의 모델을 저장하기 위하여, ModelCheckpoint를 만듭니다.\n",
        "* `checkpoint_path`는 모델이 저장될 파일 명을 설정합니다.\n",
        "* `ModelCheckpoint`을 선언하고, 적절한 옵션 값을 지정합니다."
      ]
    },
    {
      "cell_type": "code",
      "metadata": {
        "id": "qJwGq3PoninB"
      },
      "source": [
        "checkpoint_path = \"my_checkpoint.ckpt\"\n",
        "checkpoint = ModelCheckpoint(filepath=checkpoint_path, \n",
        "                             save_weights_only=True, \n",
        "                             save_best_only=True, \n",
        "                             monitor='val_loss', \n",
        "                             verbose=1)"
      ],
      "execution_count": 15,
      "outputs": []
    },
    {
      "cell_type": "markdown",
      "metadata": {
        "id": "v3mjb5EAninE"
      },
      "source": [
        "## 학습 (fit)"
      ]
    },
    {
      "cell_type": "markdown",
      "metadata": {
        "id": "3-X6hK_DMYZH"
      },
      "source": [
        "1. `validation_data`를 반드시 지정합니다.\n",
        "2. `epochs`을 적절하게 지정합니다.\n",
        "3. `callbacks`에 바로 위에서 만든 checkpoint를 지정합니다."
      ]
    },
    {
      "cell_type": "code",
      "metadata": {
        "id": "2uHXDA_vninF",
        "colab": {
          "base_uri": "https://localhost:8080/"
        },
        "outputId": "a29b0d9c-5449-4ecd-c046-3582bd6c41f9"
      },
      "source": [
        "model.fit(train_data,\n",
        "          validation_data=(valid_data),\n",
        "          epochs=20,\n",
        "          callbacks=[checkpoint],\n",
        "          )"
      ],
      "execution_count": 16,
      "outputs": [
        {
          "output_type": "stream",
          "text": [
            "Epoch 1/20\n",
            "582/582 [==============================] - 84s 86ms/step - loss: 0.6943 - acc: 0.5135 - val_loss: 0.6871 - val_acc: 0.5531\n",
            "\n",
            "Epoch 00001: val_loss improved from inf to 0.68712, saving model to my_checkpoint.ckpt\n",
            "Epoch 2/20\n",
            "582/582 [==============================] - 49s 84ms/step - loss: 0.6885 - acc: 0.5406 - val_loss: 0.6750 - val_acc: 0.5866\n",
            "\n",
            "Epoch 00002: val_loss improved from 0.68712 to 0.67504, saving model to my_checkpoint.ckpt\n",
            "Epoch 3/20\n",
            "582/582 [==============================] - 49s 83ms/step - loss: 0.6664 - acc: 0.5909 - val_loss: 0.6049 - val_acc: 0.6685\n",
            "\n",
            "Epoch 00003: val_loss improved from 0.67504 to 0.60490, saving model to my_checkpoint.ckpt\n",
            "Epoch 4/20\n",
            "582/582 [==============================] - 48s 83ms/step - loss: 0.6050 - acc: 0.6707 - val_loss: 0.5631 - val_acc: 0.7089\n",
            "\n",
            "Epoch 00004: val_loss improved from 0.60490 to 0.56306, saving model to my_checkpoint.ckpt\n",
            "Epoch 5/20\n",
            "582/582 [==============================] - 48s 83ms/step - loss: 0.5476 - acc: 0.7222 - val_loss: 0.5327 - val_acc: 0.7229\n",
            "\n",
            "Epoch 00005: val_loss improved from 0.56306 to 0.53271, saving model to my_checkpoint.ckpt\n",
            "Epoch 6/20\n",
            "582/582 [==============================] - 49s 83ms/step - loss: 0.4780 - acc: 0.7718 - val_loss: 0.4569 - val_acc: 0.7934\n",
            "\n",
            "Epoch 00006: val_loss improved from 0.53271 to 0.45688, saving model to my_checkpoint.ckpt\n",
            "Epoch 7/20\n",
            "582/582 [==============================] - 48s 83ms/step - loss: 0.4199 - acc: 0.8098 - val_loss: 0.4475 - val_acc: 0.7915\n",
            "\n",
            "Epoch 00007: val_loss improved from 0.45688 to 0.44748, saving model to my_checkpoint.ckpt\n",
            "Epoch 8/20\n",
            "582/582 [==============================] - 48s 83ms/step - loss: 0.3778 - acc: 0.8309 - val_loss: 0.3894 - val_acc: 0.8300\n",
            "\n",
            "Epoch 00008: val_loss improved from 0.44748 to 0.38936, saving model to my_checkpoint.ckpt\n",
            "Epoch 9/20\n",
            "582/582 [==============================] - 48s 82ms/step - loss: 0.3284 - acc: 0.8569 - val_loss: 0.3384 - val_acc: 0.8543\n",
            "\n",
            "Epoch 00009: val_loss improved from 0.38936 to 0.33836, saving model to my_checkpoint.ckpt\n",
            "Epoch 10/20\n",
            "582/582 [==============================] - 48s 83ms/step - loss: 0.2906 - acc: 0.8741 - val_loss: 0.3355 - val_acc: 0.8532\n",
            "\n",
            "Epoch 00010: val_loss improved from 0.33836 to 0.33555, saving model to my_checkpoint.ckpt\n",
            "Epoch 11/20\n",
            "582/582 [==============================] - 48s 83ms/step - loss: 0.2627 - acc: 0.8890 - val_loss: 0.3224 - val_acc: 0.8588\n",
            "\n",
            "Epoch 00011: val_loss improved from 0.33555 to 0.32243, saving model to my_checkpoint.ckpt\n",
            "Epoch 12/20\n",
            "582/582 [==============================] - 48s 83ms/step - loss: 0.2329 - acc: 0.9039 - val_loss: 0.3327 - val_acc: 0.8592\n",
            "\n",
            "Epoch 00012: val_loss did not improve from 0.32243\n",
            "Epoch 13/20\n",
            "582/582 [==============================] - 48s 82ms/step - loss: 0.2152 - acc: 0.9103 - val_loss: 0.3348 - val_acc: 0.8560\n",
            "\n",
            "Epoch 00013: val_loss did not improve from 0.32243\n",
            "Epoch 14/20\n",
            "582/582 [==============================] - 48s 82ms/step - loss: 0.1951 - acc: 0.9196 - val_loss: 0.3311 - val_acc: 0.8579\n",
            "\n",
            "Epoch 00014: val_loss did not improve from 0.32243\n",
            "Epoch 15/20\n",
            "582/582 [==============================] - 48s 82ms/step - loss: 0.1711 - acc: 0.9298 - val_loss: 0.3902 - val_acc: 0.8377\n",
            "\n",
            "Epoch 00015: val_loss did not improve from 0.32243\n",
            "Epoch 16/20\n",
            "582/582 [==============================] - 49s 84ms/step - loss: 0.1528 - acc: 0.9380 - val_loss: 0.4471 - val_acc: 0.8162\n",
            "\n",
            "Epoch 00016: val_loss did not improve from 0.32243\n",
            "Epoch 17/20\n",
            "582/582 [==============================] - 48s 83ms/step - loss: 0.1470 - acc: 0.9406 - val_loss: 0.4097 - val_acc: 0.8564\n",
            "\n",
            "Epoch 00017: val_loss did not improve from 0.32243\n",
            "Epoch 18/20\n",
            "582/582 [==============================] - 48s 83ms/step - loss: 0.1218 - acc: 0.9530 - val_loss: 0.4936 - val_acc: 0.8452\n",
            "\n",
            "Epoch 00018: val_loss did not improve from 0.32243\n",
            "Epoch 19/20\n",
            "582/582 [==============================] - 48s 83ms/step - loss: 0.1136 - acc: 0.9554 - val_loss: 0.6450 - val_acc: 0.8033\n",
            "\n",
            "Epoch 00019: val_loss did not improve from 0.32243\n",
            "Epoch 20/20\n",
            "582/582 [==============================] - 48s 83ms/step - loss: 0.1185 - acc: 0.9540 - val_loss: 0.6493 - val_acc: 0.8336\n",
            "\n",
            "Epoch 00020: val_loss did not improve from 0.32243\n"
          ],
          "name": "stdout"
        },
        {
          "output_type": "execute_result",
          "data": {
            "text/plain": [
              "<tensorflow.python.keras.callbacks.History at 0x7f31a8550dd0>"
            ]
          },
          "metadata": {
            "tags": []
          },
          "execution_count": 16
        }
      ]
    },
    {
      "cell_type": "markdown",
      "metadata": {
        "id": "wwnduSgRiBw8"
      },
      "source": [
        "## 학습 완료 후 Load Weights (ModelCheckpoint)"
      ]
    },
    {
      "cell_type": "markdown",
      "metadata": {
        "id": "kLqb_6XrMvdq"
      },
      "source": [
        "학습이 완료된 후에는 반드시 `load_weights`를 해주어야 합니다.\n",
        "\n",
        "그렇지 않으면, 열심히 ModelCheckpoint를 만든 의미가 없습니다."
      ]
    },
    {
      "cell_type": "code",
      "metadata": {
        "id": "4jO1ucZ9ninH",
        "colab": {
          "base_uri": "https://localhost:8080/"
        },
        "outputId": "b436ef20-00f1-4952-d412-fa1f3bcc90a6"
      },
      "source": [
        "# checkpoint 를 저장한 파일명을 입력합니다.\n",
        "model.load_weights(checkpoint_path)"
      ],
      "execution_count": 17,
      "outputs": [
        {
          "output_type": "execute_result",
          "data": {
            "text/plain": [
              "<tensorflow.python.training.tracking.util.CheckpointLoadStatus at 0x7f3157f1b4d0>"
            ]
          },
          "metadata": {
            "tags": []
          },
          "execution_count": 17
        }
      ]
    }
  ]
}