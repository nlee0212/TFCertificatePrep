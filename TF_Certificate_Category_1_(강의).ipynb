{
  "nbformat": 4,
  "nbformat_minor": 0,
  "metadata": {
    "accelerator": "GPU",
    "colab": {
      "name": "TF Certificate Category 1 (강의)",
      "provenance": [],
      "collapsed_sections": [],
      "include_colab_link": true
    },
    "kernelspec": {
      "display_name": "Python 3",
      "language": "python",
      "name": "python3"
    },
    "language_info": {
      "codemirror_mode": {
        "name": "ipython",
        "version": 3
      },
      "file_extension": ".py",
      "mimetype": "text/x-python",
      "name": "python",
      "nbconvert_exporter": "python",
      "pygments_lexer": "ipython3",
      "version": "3.6.6"
    }
  },
  "cells": [
    {
      "cell_type": "markdown",
      "metadata": {
        "id": "view-in-github",
        "colab_type": "text"
      },
      "source": [
        "<a href=\"https://colab.research.google.com/github/nlee0212/TFCertificatePrep/blob/main/TF_Certificate_Category_1_(%EA%B0%95%EC%9D%98).ipynb\" target=\"_parent\"><img src=\"https://colab.research.google.com/assets/colab-badge.svg\" alt=\"Open In Colab\"/></a>"
      ]
    },
    {
      "cell_type": "markdown",
      "metadata": {
        "id": "cIcQtS0nv9GP"
      },
      "source": [
        "# TensorFlow 2.0"
      ]
    },
    {
      "cell_type": "markdown",
      "metadata": {
        "id": "iRSKbgK8PRs5"
      },
      "source": [
        "## 확인"
      ]
    },
    {
      "cell_type": "markdown",
      "metadata": {
        "id": "Fc4QcKvRPSj-"
      },
      "source": [
        "1. GPU 옵션 켜져 있는지 확인할 것!!! (수정 - 노트설정 - 하드웨어설정 (GPU))"
      ]
    },
    {
      "cell_type": "markdown",
      "metadata": {
        "id": "JNPjnA62PXVn"
      },
      "source": [
        "## 순서"
      ]
    },
    {
      "cell_type": "markdown",
      "metadata": {
        "id": "T463L0aPPX_n"
      },
      "source": [
        "1. **import**: 필요한 모듈 import\n",
        "2. **전처리**: 학습에 필요한 데이터 전처리를 수행합니다.\n",
        "3. **모델링(model)**: 모델을 정의합니다.\n",
        "4. **컴파일(compile)**: 모델을 생성합니다.\n",
        "5. **학습 (fit)**: 모델을 학습시킵니다."
      ]
    },
    {
      "cell_type": "markdown",
      "metadata": {
        "id": "KvBpt8Jtv9GV"
      },
      "source": [
        "아래는 실제 **전처리 - 모델링 - 컴파일 - 학습**으로 이어지는 코드를 보여줍니다."
      ]
    },
    {
      "cell_type": "code",
      "metadata": {
        "id": "SGUQfyotv9GZ"
      },
      "source": [
        "# 필요한 패키지 import\n",
        "import numpy as np\n",
        "\n",
        "# STEP 1: 필요한 모듈 import\n",
        "import tensorflow as tf\n",
        "from tensorflow.keras.layers import Dense\n",
        "from tensorflow.keras.models import Sequential\n",
        "\n",
        "# STEP 2: 데이터 전처리\n",
        "xs = np.array([-1.0, 0.0, 1.0, 2.0, 3.0, 4.0], dtype=float)\n",
        "ys = np.array([5.0, 6.0, 7.0, 8.0, 9.0, 10.0], dtype=float)\n",
        "\n",
        "# STEP 3: 모델의 정의 (modeling)\n",
        "model = Sequential([\n",
        "    Dense(1, input_shape=[1]),\n",
        "])\n",
        "\n",
        "# STEP 4: 모델의 생성 (compile)\n",
        "model.compile(optimizer='sgd', loss='mse')\n",
        "\n",
        "# STEP 5: 학습 (fit)\n",
        "model.fit(xs, ys, epochs=1200, verbose=0)\n",
        "\n",
        "# 검증\n",
        "# 16.000046\n",
        "model.predict([10.0])"
      ],
      "execution_count": null,
      "outputs": []
    },
    {
      "cell_type": "markdown",
      "metadata": {
        "id": "KjWUm_qx-jr9"
      },
      "source": [
        "## Category 1"
      ]
    },
    {
      "cell_type": "markdown",
      "metadata": {
        "id": "QFssK7Hxv9Gd"
      },
      "source": [
        "1번 문제는 Basic 한 모델을 다룹니다."
      ]
    },
    {
      "cell_type": "code",
      "metadata": {
        "id": "3p30Klv-t-mt"
      },
      "source": [
        "import numpy as np\n",
        "import tensorflow as tf\n",
        "#아래 두 줄은 코드로 들어가 있지 않음. 직접 넣어야 함!\n",
        "from tensorflow.keras.layers import Dense\n",
        "from tensorflow.keras.models import Sequential\n",
        "\n",
        "xs = np.array([-1.0, 0.0, 1.0, 2.0, 3.0, 4.0], dtype=float)\n",
        "ys = np.array([5.0, 6.0, 7.0, 8.0, 9.0, 10.0], dtype=float)"
      ],
      "execution_count": null,
      "outputs": []
    },
    {
      "cell_type": "markdown",
      "metadata": {
        "id": "nw1e1rNyv9Gg"
      },
      "source": [
        "## 모델 정의 (Sequential)"
      ]
    },
    {
      "cell_type": "markdown",
      "metadata": {
        "id": "846ZmeQev9Gg"
      },
      "source": [
        "tensorflow 2.0은 keras의 Sequential 방식과 동일하게 **블록쌓기 방식**으로 매우 쉽게 모델링을 할 수 있습니다."
      ]
    },
    {
      "cell_type": "markdown",
      "metadata": {
        "id": "9Jzlccvqv9Gg"
      },
      "source": [
        "Dense Layer는 가장 기본적인 **신경망 층**이라고 이해하시면 됩니다."
      ]
    },
    {
      "cell_type": "markdown",
      "metadata": {
        "id": "amDrERvev9Gh"
      },
      "source": [
        "`Dense` == **Fully Connected Layer** 라고도 불리웁니다."
      ]
    },
    {
      "cell_type": "code",
      "metadata": {
        "id": "wATh99gev9Gh"
      },
      "source": [
        "from IPython.display import Image\n",
        "\n",
        "Image('https://cs231n.github.io/assets/nn1/neural_net2.jpeg')"
      ],
      "execution_count": null,
      "outputs": []
    },
    {
      "cell_type": "markdown",
      "metadata": {
        "id": "OFGnL-I7Z7OA"
      },
      "source": [
        "**Sequential()**은 마치 레고 블록을 쌓듯이 layer을 순서대로 쌓아주면 됩니다.\n",
        "\n",
        "* 학습 순서는 위에서 아래방향으로 진행됩니다.\n",
        "* 반드시, 첫번째 layer에는 `input_shape`을 지정해 주어야 합니다."
      ]
    },
    {
      "cell_type": "markdown",
      "metadata": {
        "id": "zwNRZnAEYr69"
      },
      "source": [
        "위의 그림을 모델링 한다면?"
      ]
    },
    {
      "cell_type": "code",
      "metadata": {
        "id": "NkjkePLsYwkG"
      },
      "source": [
        "model = Sequential([\n",
        "    Dense(3, input_shape=[1]),\n",
        "    Dense(4),\n",
        "    Dense(4),\n",
        "    Dense(1),\n",
        "])\n",
        "\n",
        "## input shape=리스트 또는 튜플이 와야함!\n",
        "## 따라서 input_shape=(1)을 하면 안되고 input_shape=[1] 또는 input_shape(1,)로 해줘야 함\n",
        "## 1번 문제에선 항상 shape를 1로 하면 됨. input이 하나씩 들어가는 거니까"
      ],
      "execution_count": null,
      "outputs": []
    },
    {
      "cell_type": "markdown",
      "metadata": {
        "id": "FK28RnMrY7be"
      },
      "source": [
        "하지만, 본 문제를 푸는데, 데이터의 **복잡도가 단순**하기 때문에, 아래와같이 Dense의 unit은 1로 지정합니다."
      ]
    },
    {
      "cell_type": "code",
      "metadata": {
        "id": "__cgqqQUZIaX"
      },
      "source": [
        "model = Sequential([\n",
        "    Dense(1, input_shape=[1]),\n",
        "])\n",
        "\n",
        "## 1번 문제는 항상 단순 선형 회귀로 되어 있음. 굳이 hidden layer생각할 필요 없음. 오히려 있으면 정확도 떨어짐"
      ],
      "execution_count": null,
      "outputs": []
    },
    {
      "cell_type": "markdown",
      "metadata": {
        "id": "Ft0WXiWDv9Gl"
      },
      "source": [
        "## 컴파일(compile): 적절한 optimizer와 loss 선정하기"
      ]
    },
    {
      "cell_type": "markdown",
      "metadata": {
        "id": "__nSPPulv9Gm"
      },
      "source": [
        "우리는 적절한 회귀 값을 예측하는 모델을 만들어야 합니다.\n",
        "\n",
        "regression(회귀) 예측을 위해서는 loss=`mse`를 선택합니다."
      ]
    },
    {
      "cell_type": "markdown",
      "metadata": {
        "id": "pzT_sVFn18m-"
      },
      "source": [
        "`optimizer`와 `loss`를 지정합니다.\n",
        "\n",
        "* `optimizer`는 **'sgd'(Stochastic Gradient Descent)**를 지정합니다.\n",
        "* `loss`는 **'mse'**를 지정합니다.\n"
      ]
    },
    {
      "cell_type": "code",
      "metadata": {
        "id": "WsIPBJfI-s8w"
      },
      "source": [
        "model.compile(optimizer='sgd', loss='mse')"
      ],
      "execution_count": null,
      "outputs": []
    },
    {
      "cell_type": "markdown",
      "metadata": {
        "id": "prusYjARv9Gp"
      },
      "source": [
        "## 학습 (fit)"
      ]
    },
    {
      "cell_type": "markdown",
      "metadata": {
        "id": "s_stsrYWv9Gq"
      },
      "source": [
        "이제, 모델에 학습을 진행해야합니다. **fit()** 메소드를 활용하여 학습을 진행합니다.\n",
        "\n",
        "학습시, `feature`, `label` 값 지정 그리고 `epochs`을 지정합니다."
      ]
    },
    {
      "cell_type": "code",
      "metadata": {
        "id": "_pENMefOv9Gq"
      },
      "source": [
        "model.fit(xs, ys, epochs=1200, verbose=0)"
      ],
      "execution_count": null,
      "outputs": []
    },
    {
      "cell_type": "markdown",
      "metadata": {
        "id": "hPTKWTCcv9Gs"
      },
      "source": [
        "## 예측 (Predict)\n",
        "\n",
        "Predict로 잘 학습이 되어있는지 검증합니다."
      ]
    },
    {
      "cell_type": "code",
      "metadata": {
        "id": "2dNjbTDkv9Gs"
      },
      "source": [
        "# output\n",
        "# 16.000046\n",
        "model.predict([10.0])"
      ],
      "execution_count": null,
      "outputs": []
    }
  ]
}